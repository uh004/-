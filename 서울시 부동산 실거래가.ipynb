{
 "cells": [
  {
   "cell_type": "markdown",
   "metadata": {},
   "source": [
    "### 서울시 부동산 실거래가 정보"
   ]
  },
  {
   "cell_type": "code",
   "execution_count": 2,
   "metadata": {},
   "outputs": [],
   "source": [
    "# 필요한 라이브러리 불러오기\n",
    "import requests\n",
    "import json\n",
    "import pandas as pd"
   ]
  },
  {
   "cell_type": "code",
   "execution_count": 3,
   "metadata": {},
   "outputs": [],
   "source": [
    "# API_KEY\n",
    "API_KEY = '6a4e4a656d716f74363061586f7967'"
   ]
  },
  {
   "cell_type": "code",
   "execution_count": null,
   "metadata": {},
   "outputs": [],
   "source": [
    "# 2023 영등포구(11560) 데이터 세트\n",
    "url = f'http://openapi.seoul.go.kr:8088/{API_KEY}/json/tbLnOpendataRtmsV/1/100/2023/11560'\n",
    "req = requests.get(url)\n",
    "content = req.json()\n",
    "content"
   ]
  },
  {
   "cell_type": "code",
   "execution_count": 5,
   "metadata": {},
   "outputs": [
    {
     "data": {
      "text/plain": [
       "dict"
      ]
     },
     "execution_count": 5,
     "metadata": {},
     "output_type": "execute_result"
    }
   ],
   "source": [
    "# 받아온 형태 딕셔너리\n",
    "type(content)"
   ]
  },
  {
   "cell_type": "code",
   "execution_count": 11,
   "metadata": {},
   "outputs": [
    {
     "data": {
      "text/plain": [
       "dict_keys(['list_total_count', 'RESULT', 'row'])"
      ]
     },
     "execution_count": 11,
     "metadata": {},
     "output_type": "execute_result"
    }
   ],
   "source": [
    "content['tbLnOpendataRtmsV'].keys()"
   ]
  },
  {
   "cell_type": "code",
   "execution_count": 15,
   "metadata": {},
   "outputs": [
    {
     "data": {
      "text/plain": [
       "{'ACC_YEAR': '2023',\n",
       " 'SGG_CD': '11560',\n",
       " 'SGG_NM': '영등포구',\n",
       " 'BJDONG_CD': '12600',\n",
       " 'BJDONG_NM': '양평동2가',\n",
       " 'LAND_GBN': '1',\n",
       " 'LAND_GBN_NM': '대지',\n",
       " 'BONBEON': '0022',\n",
       " 'BUBEON': '0001',\n",
       " 'BLDG_NM': '스카이시티',\n",
       " 'DEAL_YMD': '20231204',\n",
       " 'OBJ_AMT': '11350',\n",
       " 'BLDG_AREA': 18.18,\n",
       " 'TOT_AREA': 27.87,\n",
       " 'FLOOR': 9.0,\n",
       " 'RIGHT_GBN': '',\n",
       " 'CNTL_YMD': '',\n",
       " 'BUILD_YEAR': '2014',\n",
       " 'HOUSE_TYPE': '오피스텔',\n",
       " 'REQ_GBN': '중개거래',\n",
       " 'RDEALER_LAWDNM': '서울 영등포구'}"
      ]
     },
     "execution_count": 15,
     "metadata": {},
     "output_type": "execute_result"
    }
   ],
   "source": [
    "content['tbLnOpendataRtmsV']['row'][99]"
   ]
  },
  {
   "cell_type": "code",
   "execution_count": 16,
   "metadata": {},
   "outputs": [
    {
     "data": {
      "text/plain": [
       "100"
      ]
     },
     "execution_count": 16,
     "metadata": {},
     "output_type": "execute_result"
    }
   ],
   "source": [
    "len(content['tbLnOpendataRtmsV']['row'])"
   ]
  },
  {
   "cell_type": "code",
   "execution_count": 17,
   "metadata": {},
   "outputs": [
    {
     "data": {
      "text/html": [
       "<div>\n",
       "<style scoped>\n",
       "    .dataframe tbody tr th:only-of-type {\n",
       "        vertical-align: middle;\n",
       "    }\n",
       "\n",
       "    .dataframe tbody tr th {\n",
       "        vertical-align: top;\n",
       "    }\n",
       "\n",
       "    .dataframe thead th {\n",
       "        text-align: right;\n",
       "    }\n",
       "</style>\n",
       "<table border=\"1\" class=\"dataframe\">\n",
       "  <thead>\n",
       "    <tr style=\"text-align: right;\">\n",
       "      <th></th>\n",
       "      <th>ACC_YEAR</th>\n",
       "      <th>SGG_CD</th>\n",
       "      <th>SGG_NM</th>\n",
       "      <th>BJDONG_CD</th>\n",
       "      <th>BJDONG_NM</th>\n",
       "      <th>LAND_GBN</th>\n",
       "      <th>LAND_GBN_NM</th>\n",
       "      <th>BONBEON</th>\n",
       "      <th>BUBEON</th>\n",
       "      <th>BLDG_NM</th>\n",
       "      <th>...</th>\n",
       "      <th>OBJ_AMT</th>\n",
       "      <th>BLDG_AREA</th>\n",
       "      <th>TOT_AREA</th>\n",
       "      <th>FLOOR</th>\n",
       "      <th>RIGHT_GBN</th>\n",
       "      <th>CNTL_YMD</th>\n",
       "      <th>BUILD_YEAR</th>\n",
       "      <th>HOUSE_TYPE</th>\n",
       "      <th>REQ_GBN</th>\n",
       "      <th>RDEALER_LAWDNM</th>\n",
       "    </tr>\n",
       "  </thead>\n",
       "  <tbody>\n",
       "    <tr>\n",
       "      <th>0</th>\n",
       "      <td>2023</td>\n",
       "      <td>11560</td>\n",
       "      <td>영등포구</td>\n",
       "      <td>11000</td>\n",
       "      <td>여의도동</td>\n",
       "      <td>1</td>\n",
       "      <td>대지</td>\n",
       "      <td>0047</td>\n",
       "      <td>0000</td>\n",
       "      <td>여의도자이</td>\n",
       "      <td>...</td>\n",
       "      <td>392000</td>\n",
       "      <td>210.38</td>\n",
       "      <td>0.00</td>\n",
       "      <td>21.0</td>\n",
       "      <td></td>\n",
       "      <td></td>\n",
       "      <td>2008</td>\n",
       "      <td>아파트</td>\n",
       "      <td>중개거래</td>\n",
       "      <td>서울 영등포구</td>\n",
       "    </tr>\n",
       "    <tr>\n",
       "      <th>1</th>\n",
       "      <td>2023</td>\n",
       "      <td>11560</td>\n",
       "      <td>영등포구</td>\n",
       "      <td>13300</td>\n",
       "      <td>대림동</td>\n",
       "      <td>1</td>\n",
       "      <td>대지</td>\n",
       "      <td>0946</td>\n",
       "      <td>0001</td>\n",
       "      <td>대림현대</td>\n",
       "      <td>...</td>\n",
       "      <td>57900</td>\n",
       "      <td>59.76</td>\n",
       "      <td>0.00</td>\n",
       "      <td>4.0</td>\n",
       "      <td></td>\n",
       "      <td></td>\n",
       "      <td>1999</td>\n",
       "      <td>아파트</td>\n",
       "      <td>중개거래</td>\n",
       "      <td>서울 영등포구</td>\n",
       "    </tr>\n",
       "    <tr>\n",
       "      <th>2</th>\n",
       "      <td>2023</td>\n",
       "      <td>11560</td>\n",
       "      <td>영등포구</td>\n",
       "      <td>12600</td>\n",
       "      <td>양평동2가</td>\n",
       "      <td>1</td>\n",
       "      <td>대지</td>\n",
       "      <td>0043</td>\n",
       "      <td>0011</td>\n",
       "      <td>디에이원파크</td>\n",
       "      <td>...</td>\n",
       "      <td>23000</td>\n",
       "      <td>29.56</td>\n",
       "      <td>40.66</td>\n",
       "      <td>13.0</td>\n",
       "      <td></td>\n",
       "      <td>20231229</td>\n",
       "      <td>2017</td>\n",
       "      <td>오피스텔</td>\n",
       "      <td>직거래</td>\n",
       "      <td></td>\n",
       "    </tr>\n",
       "    <tr>\n",
       "      <th>3</th>\n",
       "      <td>2023</td>\n",
       "      <td>11560</td>\n",
       "      <td>영등포구</td>\n",
       "      <td>12100</td>\n",
       "      <td>문래동3가</td>\n",
       "      <td></td>\n",
       "      <td></td>\n",
       "      <td></td>\n",
       "      <td></td>\n",
       "      <td></td>\n",
       "      <td>...</td>\n",
       "      <td>114000</td>\n",
       "      <td>26.68</td>\n",
       "      <td>61.80</td>\n",
       "      <td>0.0</td>\n",
       "      <td></td>\n",
       "      <td>20231229</td>\n",
       "      <td>1942</td>\n",
       "      <td>단독다가구</td>\n",
       "      <td>중개거래</td>\n",
       "      <td>서울 영등포구</td>\n",
       "    </tr>\n",
       "    <tr>\n",
       "      <th>4</th>\n",
       "      <td>2023</td>\n",
       "      <td>11560</td>\n",
       "      <td>영등포구</td>\n",
       "      <td>11700</td>\n",
       "      <td>당산동</td>\n",
       "      <td>1</td>\n",
       "      <td>대지</td>\n",
       "      <td>0121</td>\n",
       "      <td>0003</td>\n",
       "      <td>나온타워</td>\n",
       "      <td>...</td>\n",
       "      <td>12000</td>\n",
       "      <td>15.38</td>\n",
       "      <td>6.23</td>\n",
       "      <td>4.0</td>\n",
       "      <td></td>\n",
       "      <td></td>\n",
       "      <td>2013</td>\n",
       "      <td>연립다세대</td>\n",
       "      <td>직거래</td>\n",
       "      <td></td>\n",
       "    </tr>\n",
       "  </tbody>\n",
       "</table>\n",
       "<p>5 rows × 21 columns</p>\n",
       "</div>"
      ],
      "text/plain": [
       "  ACC_YEAR SGG_CD SGG_NM BJDONG_CD BJDONG_NM LAND_GBN LAND_GBN_NM BONBEON  \\\n",
       "0     2023  11560   영등포구     11000      여의도동        1          대지    0047   \n",
       "1     2023  11560   영등포구     13300       대림동        1          대지    0946   \n",
       "2     2023  11560   영등포구     12600     양평동2가        1          대지    0043   \n",
       "3     2023  11560   영등포구     12100     문래동3가                                \n",
       "4     2023  11560   영등포구     11700       당산동        1          대지    0121   \n",
       "\n",
       "  BUBEON BLDG_NM  ... OBJ_AMT BLDG_AREA  TOT_AREA  FLOOR  RIGHT_GBN  CNTL_YMD  \\\n",
       "0   0000   여의도자이  ...  392000    210.38      0.00   21.0                        \n",
       "1   0001    대림현대  ...   57900     59.76      0.00    4.0                        \n",
       "2   0011  디에이원파크  ...   23000     29.56     40.66   13.0             20231229   \n",
       "3                 ...  114000     26.68     61.80    0.0             20231229   \n",
       "4   0003    나온타워  ...   12000     15.38      6.23    4.0                        \n",
       "\n",
       "  BUILD_YEAR HOUSE_TYPE REQ_GBN RDEALER_LAWDNM  \n",
       "0       2008        아파트    중개거래        서울 영등포구  \n",
       "1       1999        아파트    중개거래        서울 영등포구  \n",
       "2       2017       오피스텔     직거래                 \n",
       "3       1942      단독다가구    중개거래        서울 영등포구  \n",
       "4       2013      연립다세대     직거래                 \n",
       "\n",
       "[5 rows x 21 columns]"
      ]
     },
     "execution_count": 17,
     "metadata": {},
     "output_type": "execute_result"
    }
   ],
   "source": [
    "# 영등포구 2023년 실거래가 데이터 100개 정보를 dataframe으로 만들고 확인\n",
    "con = content['tbLnOpendataRtmsV']['row']\n",
    "result = pd.DataFrame(con)\n",
    "result.head()"
   ]
  },
  {
   "cell_type": "code",
   "execution_count": 18,
   "metadata": {},
   "outputs": [
    {
     "data": {
      "text/plain": [
       "0    20231229\n",
       "1    20231229\n",
       "2    20231228\n",
       "3    20231227\n",
       "4    20231227\n",
       "Name: DEAL_YMD, dtype: object"
      ]
     },
     "execution_count": 18,
     "metadata": {},
     "output_type": "execute_result"
    }
   ],
   "source": [
    "# 계약일 확인하기\n",
    "result['DEAL_YMD'].head()"
   ]
  },
  {
   "cell_type": "markdown",
   "metadata": {},
   "source": [
    "### 실습과제-1\n",
    "1. 자치구 코드(시군구 코드)는 '서울시 건축물대장 법정동 코드정보'에서 확인\n",
    "2. '서울시 건축물대장 법정도 코드정보' Open API를 활용하여 30개 데이터를 가져와서\n",
    "3. Pandas dataFrame으로 변환하여 출력해보기\n",
    "4. '영등포구' 법정도 코드 번호를 확인하기"
   ]
  },
  {
   "cell_type": "markdown",
   "metadata": {},
   "source": [
    "### LAB 1: 서울시 부동산 실거래가 데이터 가져오기\n",
    "- 서울 열린 데이터 광장 데이터는 최대 1000개 데이터만 가져올 수 있음"
   ]
  },
  {
   "cell_type": "code",
   "execution_count": 19,
   "metadata": {},
   "outputs": [],
   "source": [
    "# 실행 시점 기준 1~1000개 데이터를 수집\n",
    "import requests\n",
    "import json\n",
    "import pandas as pd\n",
    "\n",
    "# API_KEY\n",
    "API_KEY = '6a4e4a656d716f74363061586f7967'"
   ]
  },
  {
   "cell_type": "code",
   "execution_count": 20,
   "metadata": {},
   "outputs": [],
   "source": [
    "def main():\n",
    "  # tbLnOpendataRtmsV 데이터세트의 최근 1000 * 11 데이터 요청\n",
    "  url = f'http://openapi.seoul.go.kr:8088/{API_KEY}/json/tbLnOpendataRtmsV/1/1000/'\n",
    "  print(url)\n",
    "  req = requests.get(url)\n",
    "  content = req.json()\n",
    "  con = content['tbLnOpendataRtmsV']['row']\n",
    "  data = pd.DataFrame(con)\n",
    "\n",
    "  data = data.reset_index(drop=True)\n",
    "  # DEAL_YMD:계약일\n",
    "  data['DEAL_YMD'] = pd.to_datetime(data['DEAL_YMD'], format=('%Y%m%d'))\n",
    "  data.to_csv('seoul_real_estate_1000.csv', index=False)\n",
    "\n",
    "  print(data.head())\n",
    "  print(len(data), type(data))"
   ]
  },
  {
   "cell_type": "code",
   "execution_count": 21,
   "metadata": {},
   "outputs": [
    {
     "name": "stdout",
     "output_type": "stream",
     "text": [
      "http://openapi.seoul.go.kr:8088/6a4e4a656d716f74363061586f7967/json/tbLnOpendataRtmsV/1/1000/\n",
      "  ACC_YEAR SGG_CD SGG_NM BJDONG_CD BJDONG_NM LAND_GBN LAND_GBN_NM BONBEON  \\\n",
      "0     2024  11215    광진구     10300       구의동        1          대지    0198   \n",
      "1     2024  11590    동작구     10800       대방동        1          대지    0503   \n",
      "2     2024  11620    관악구     10300       남현동        1          대지    1136   \n",
      "3     2024  11440    마포구     12500       성산동        1          대지    0620   \n",
      "4     2024  11500    강서구     10300       화곡동        1          대지    0073   \n",
      "\n",
      "  BUBEON    BLDG_NM  ... OBJ_AMT BLDG_AREA  TOT_AREA  FLOOR  RIGHT_GBN  \\\n",
      "0   0005      강변아파트  ...   16000     51.88     67.06    2.0              \n",
      "1   0000        주공2  ...   90000     59.97      0.00    7.0              \n",
      "2   0000  남현동한일유앤아이  ...   68500     84.99      0.00    2.0              \n",
      "3   0002        펠리체  ...   38000     50.75     30.00    4.0              \n",
      "4   0073     VILL73  ...   23000     20.36     18.00    3.0              \n",
      "\n",
      "  CNTL_YMD BUILD_YEAR HOUSE_TYPE REQ_GBN RDEALER_LAWDNM  \n",
      "0                2004       오피스텔     직거래                 \n",
      "1                1995        아파트    중개거래         서울 동작구  \n",
      "2                2005        아파트    중개거래         서울 관악구  \n",
      "3                2011      연립다세대    중개거래         서울 마포구  \n",
      "4                2021      연립다세대     직거래                 \n",
      "\n",
      "[5 rows x 21 columns]\n",
      "1000 <class 'pandas.core.frame.DataFrame'>\n"
     ]
    }
   ],
   "source": [
    "if __name__ == '__main__':\n",
    "  main()"
   ]
  },
  {
   "cell_type": "code",
   "execution_count": 22,
   "metadata": {},
   "outputs": [
    {
     "data": {
      "text/html": [
       "<div>\n",
       "<style scoped>\n",
       "    .dataframe tbody tr th:only-of-type {\n",
       "        vertical-align: middle;\n",
       "    }\n",
       "\n",
       "    .dataframe tbody tr th {\n",
       "        vertical-align: top;\n",
       "    }\n",
       "\n",
       "    .dataframe thead th {\n",
       "        text-align: right;\n",
       "    }\n",
       "</style>\n",
       "<table border=\"1\" class=\"dataframe\">\n",
       "  <thead>\n",
       "    <tr style=\"text-align: right;\">\n",
       "      <th></th>\n",
       "      <th>ACC_YEAR</th>\n",
       "      <th>SGG_CD</th>\n",
       "      <th>SGG_NM</th>\n",
       "      <th>BJDONG_CD</th>\n",
       "      <th>BJDONG_NM</th>\n",
       "      <th>LAND_GBN</th>\n",
       "      <th>LAND_GBN_NM</th>\n",
       "      <th>BONBEON</th>\n",
       "      <th>BUBEON</th>\n",
       "      <th>BLDG_NM</th>\n",
       "      <th>...</th>\n",
       "      <th>OBJ_AMT</th>\n",
       "      <th>BLDG_AREA</th>\n",
       "      <th>TOT_AREA</th>\n",
       "      <th>FLOOR</th>\n",
       "      <th>RIGHT_GBN</th>\n",
       "      <th>CNTL_YMD</th>\n",
       "      <th>BUILD_YEAR</th>\n",
       "      <th>HOUSE_TYPE</th>\n",
       "      <th>REQ_GBN</th>\n",
       "      <th>RDEALER_LAWDNM</th>\n",
       "    </tr>\n",
       "  </thead>\n",
       "  <tbody>\n",
       "    <tr>\n",
       "      <th>0</th>\n",
       "      <td>2024</td>\n",
       "      <td>11215</td>\n",
       "      <td>광진구</td>\n",
       "      <td>10300</td>\n",
       "      <td>구의동</td>\n",
       "      <td>1.0</td>\n",
       "      <td>대지</td>\n",
       "      <td>198.0</td>\n",
       "      <td>5.0</td>\n",
       "      <td>강변아파트</td>\n",
       "      <td>...</td>\n",
       "      <td>16000</td>\n",
       "      <td>51.88</td>\n",
       "      <td>67.06</td>\n",
       "      <td>2.0</td>\n",
       "      <td>NaN</td>\n",
       "      <td>NaN</td>\n",
       "      <td>2004.0</td>\n",
       "      <td>오피스텔</td>\n",
       "      <td>직거래</td>\n",
       "      <td>NaN</td>\n",
       "    </tr>\n",
       "    <tr>\n",
       "      <th>1</th>\n",
       "      <td>2024</td>\n",
       "      <td>11590</td>\n",
       "      <td>동작구</td>\n",
       "      <td>10800</td>\n",
       "      <td>대방동</td>\n",
       "      <td>1.0</td>\n",
       "      <td>대지</td>\n",
       "      <td>503.0</td>\n",
       "      <td>0.0</td>\n",
       "      <td>주공2</td>\n",
       "      <td>...</td>\n",
       "      <td>90000</td>\n",
       "      <td>59.97</td>\n",
       "      <td>0.00</td>\n",
       "      <td>7.0</td>\n",
       "      <td>NaN</td>\n",
       "      <td>NaN</td>\n",
       "      <td>1995.0</td>\n",
       "      <td>아파트</td>\n",
       "      <td>중개거래</td>\n",
       "      <td>서울 동작구</td>\n",
       "    </tr>\n",
       "    <tr>\n",
       "      <th>2</th>\n",
       "      <td>2024</td>\n",
       "      <td>11620</td>\n",
       "      <td>관악구</td>\n",
       "      <td>10300</td>\n",
       "      <td>남현동</td>\n",
       "      <td>1.0</td>\n",
       "      <td>대지</td>\n",
       "      <td>1136.0</td>\n",
       "      <td>0.0</td>\n",
       "      <td>남현동한일유앤아이</td>\n",
       "      <td>...</td>\n",
       "      <td>68500</td>\n",
       "      <td>84.99</td>\n",
       "      <td>0.00</td>\n",
       "      <td>2.0</td>\n",
       "      <td>NaN</td>\n",
       "      <td>NaN</td>\n",
       "      <td>2005.0</td>\n",
       "      <td>아파트</td>\n",
       "      <td>중개거래</td>\n",
       "      <td>서울 관악구</td>\n",
       "    </tr>\n",
       "    <tr>\n",
       "      <th>3</th>\n",
       "      <td>2024</td>\n",
       "      <td>11440</td>\n",
       "      <td>마포구</td>\n",
       "      <td>12500</td>\n",
       "      <td>성산동</td>\n",
       "      <td>1.0</td>\n",
       "      <td>대지</td>\n",
       "      <td>620.0</td>\n",
       "      <td>2.0</td>\n",
       "      <td>펠리체</td>\n",
       "      <td>...</td>\n",
       "      <td>38000</td>\n",
       "      <td>50.75</td>\n",
       "      <td>30.00</td>\n",
       "      <td>4.0</td>\n",
       "      <td>NaN</td>\n",
       "      <td>NaN</td>\n",
       "      <td>2011.0</td>\n",
       "      <td>연립다세대</td>\n",
       "      <td>중개거래</td>\n",
       "      <td>서울 마포구</td>\n",
       "    </tr>\n",
       "    <tr>\n",
       "      <th>4</th>\n",
       "      <td>2024</td>\n",
       "      <td>11500</td>\n",
       "      <td>강서구</td>\n",
       "      <td>10300</td>\n",
       "      <td>화곡동</td>\n",
       "      <td>1.0</td>\n",
       "      <td>대지</td>\n",
       "      <td>73.0</td>\n",
       "      <td>73.0</td>\n",
       "      <td>VILL73</td>\n",
       "      <td>...</td>\n",
       "      <td>23000</td>\n",
       "      <td>20.36</td>\n",
       "      <td>18.00</td>\n",
       "      <td>3.0</td>\n",
       "      <td>NaN</td>\n",
       "      <td>NaN</td>\n",
       "      <td>2021.0</td>\n",
       "      <td>연립다세대</td>\n",
       "      <td>직거래</td>\n",
       "      <td>NaN</td>\n",
       "    </tr>\n",
       "  </tbody>\n",
       "</table>\n",
       "<p>5 rows × 21 columns</p>\n",
       "</div>"
      ],
      "text/plain": [
       "   ACC_YEAR  SGG_CD SGG_NM  BJDONG_CD BJDONG_NM  LAND_GBN LAND_GBN_NM  \\\n",
       "0      2024   11215    광진구      10300       구의동       1.0          대지   \n",
       "1      2024   11590    동작구      10800       대방동       1.0          대지   \n",
       "2      2024   11620    관악구      10300       남현동       1.0          대지   \n",
       "3      2024   11440    마포구      12500       성산동       1.0          대지   \n",
       "4      2024   11500    강서구      10300       화곡동       1.0          대지   \n",
       "\n",
       "   BONBEON  BUBEON    BLDG_NM  ... OBJ_AMT  BLDG_AREA  TOT_AREA  FLOOR  \\\n",
       "0    198.0     5.0      강변아파트  ...   16000      51.88     67.06    2.0   \n",
       "1    503.0     0.0        주공2  ...   90000      59.97      0.00    7.0   \n",
       "2   1136.0     0.0  남현동한일유앤아이  ...   68500      84.99      0.00    2.0   \n",
       "3    620.0     2.0        펠리체  ...   38000      50.75     30.00    4.0   \n",
       "4     73.0    73.0     VILL73  ...   23000      20.36     18.00    3.0   \n",
       "\n",
       "   RIGHT_GBN CNTL_YMD  BUILD_YEAR  HOUSE_TYPE REQ_GBN RDEALER_LAWDNM  \n",
       "0        NaN      NaN      2004.0        오피스텔     직거래            NaN  \n",
       "1        NaN      NaN      1995.0         아파트    중개거래         서울 동작구  \n",
       "2        NaN      NaN      2005.0         아파트    중개거래         서울 관악구  \n",
       "3        NaN      NaN      2011.0       연립다세대    중개거래         서울 마포구  \n",
       "4        NaN      NaN      2021.0       연립다세대     직거래            NaN  \n",
       "\n",
       "[5 rows x 21 columns]"
      ]
     },
     "execution_count": 22,
     "metadata": {},
     "output_type": "execute_result"
    }
   ],
   "source": [
    "df = pd.read_csv('seoul_real_estate_1000.csv')\n",
    "df.head()"
   ]
  }
 ],
 "metadata": {
  "kernelspec": {
   "display_name": "Python 3",
   "language": "python",
   "name": "python3"
  },
  "language_info": {
   "codemirror_mode": {
    "name": "ipython",
    "version": 3
   },
   "file_extension": ".py",
   "mimetype": "text/x-python",
   "name": "python",
   "nbconvert_exporter": "python",
   "pygments_lexer": "ipython3",
   "version": "3.11.2"
  }
 },
 "nbformat": 4,
 "nbformat_minor": 2
}
