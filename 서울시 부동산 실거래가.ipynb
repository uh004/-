{
 "cells": [
  {
   "cell_type": "markdown",
   "metadata": {},
   "source": [
    "### 서울시 부동산 실거래가 정보"
   ]
  },
  {
   "cell_type": "code",
   "execution_count": 2,
   "metadata": {},
   "outputs": [],
   "source": [
    "# 필요한 라이브러리 불러오기\n",
    "import requests\n",
    "import json\n",
    "import pandas as pd"
   ]
  },
  {
   "cell_type": "code",
   "execution_count": 3,
   "metadata": {},
   "outputs": [],
   "source": [
    "# API_KEY\n",
    "API_KEY = '6a4e4a656d716f74363061586f7967'"
   ]
  },
  {
   "cell_type": "code",
   "execution_count": null,
   "metadata": {},
   "outputs": [],
   "source": [
    "# 2023 영등포구(11560) 데이터 세트\n",
    "url = f'http://openapi.seoul.go.kr:8088/{API_KEY}/json/tbLnOpendataRtmsV/1/100/2023/11560'\n",
    "req = requests.get(url)\n",
    "content = req.json()\n",
    "content"
   ]
  },
  {
   "cell_type": "code",
   "execution_count": 5,
   "metadata": {},
   "outputs": [
    {
     "data": {
      "text/plain": [
       "dict"
      ]
     },
     "execution_count": 5,
     "metadata": {},
     "output_type": "execute_result"
    }
   ],
   "source": [
    "# 받아온 형태 딕셔너리\n",
    "type(content)"
   ]
  },
  {
   "cell_type": "code",
   "execution_count": 11,
   "metadata": {},
   "outputs": [
    {
     "data": {
      "text/plain": [
       "dict_keys(['list_total_count', 'RESULT', 'row'])"
      ]
     },
     "execution_count": 11,
     "metadata": {},
     "output_type": "execute_result"
    }
   ],
   "source": [
    "content['tbLnOpendataRtmsV'].keys()"
   ]
  },
  {
   "cell_type": "code",
   "execution_count": 15,
   "metadata": {},
   "outputs": [
    {
     "data": {
      "text/plain": [
       "{'ACC_YEAR': '2023',\n",
       " 'SGG_CD': '11560',\n",
       " 'SGG_NM': '영등포구',\n",
       " 'BJDONG_CD': '12600',\n",
       " 'BJDONG_NM': '양평동2가',\n",
       " 'LAND_GBN': '1',\n",
       " 'LAND_GBN_NM': '대지',\n",
       " 'BONBEON': '0022',\n",
       " 'BUBEON': '0001',\n",
       " 'BLDG_NM': '스카이시티',\n",
       " 'DEAL_YMD': '20231204',\n",
       " 'OBJ_AMT': '11350',\n",
       " 'BLDG_AREA': 18.18,\n",
       " 'TOT_AREA': 27.87,\n",
       " 'FLOOR': 9.0,\n",
       " 'RIGHT_GBN': '',\n",
       " 'CNTL_YMD': '',\n",
       " 'BUILD_YEAR': '2014',\n",
       " 'HOUSE_TYPE': '오피스텔',\n",
       " 'REQ_GBN': '중개거래',\n",
       " 'RDEALER_LAWDNM': '서울 영등포구'}"
      ]
     },
     "execution_count": 15,
     "metadata": {},
     "output_type": "execute_result"
    }
   ],
   "source": [
    "content['tbLnOpendataRtmsV']['row'][99]"
   ]
  },
  {
   "cell_type": "code",
   "execution_count": 16,
   "metadata": {},
   "outputs": [
    {
     "data": {
      "text/plain": [
       "100"
      ]
     },
     "execution_count": 16,
     "metadata": {},
     "output_type": "execute_result"
    }
   ],
   "source": [
    "len(content['tbLnOpendataRtmsV']['row'])"
   ]
  },
  {
   "cell_type": "code",
   "execution_count": 17,
   "metadata": {},
   "outputs": [
    {
     "data": {
      "text/html": [
       "<div>\n",
       "<style scoped>\n",
       "    .dataframe tbody tr th:only-of-type {\n",
       "        vertical-align: middle;\n",
       "    }\n",
       "\n",
       "    .dataframe tbody tr th {\n",
       "        vertical-align: top;\n",
       "    }\n",
       "\n",
       "    .dataframe thead th {\n",
       "        text-align: right;\n",
       "    }\n",
       "</style>\n",
       "<table border=\"1\" class=\"dataframe\">\n",
       "  <thead>\n",
       "    <tr style=\"text-align: right;\">\n",
       "      <th></th>\n",
       "      <th>ACC_YEAR</th>\n",
       "      <th>SGG_CD</th>\n",
       "      <th>SGG_NM</th>\n",
       "      <th>BJDONG_CD</th>\n",
       "      <th>BJDONG_NM</th>\n",
       "      <th>LAND_GBN</th>\n",
       "      <th>LAND_GBN_NM</th>\n",
       "      <th>BONBEON</th>\n",
       "      <th>BUBEON</th>\n",
       "      <th>BLDG_NM</th>\n",
       "      <th>...</th>\n",
       "      <th>OBJ_AMT</th>\n",
       "      <th>BLDG_AREA</th>\n",
       "      <th>TOT_AREA</th>\n",
       "      <th>FLOOR</th>\n",
       "      <th>RIGHT_GBN</th>\n",
       "      <th>CNTL_YMD</th>\n",
       "      <th>BUILD_YEAR</th>\n",
       "      <th>HOUSE_TYPE</th>\n",
       "      <th>REQ_GBN</th>\n",
       "      <th>RDEALER_LAWDNM</th>\n",
       "    </tr>\n",
       "  </thead>\n",
       "  <tbody>\n",
       "    <tr>\n",
       "      <th>0</th>\n",
       "      <td>2023</td>\n",
       "      <td>11560</td>\n",
       "      <td>영등포구</td>\n",
       "      <td>11000</td>\n",
       "      <td>여의도동</td>\n",
       "      <td>1</td>\n",
       "      <td>대지</td>\n",
       "      <td>0047</td>\n",
       "      <td>0000</td>\n",
       "      <td>여의도자이</td>\n",
       "      <td>...</td>\n",
       "      <td>392000</td>\n",
       "      <td>210.38</td>\n",
       "      <td>0.00</td>\n",
       "      <td>21.0</td>\n",
       "      <td></td>\n",
       "      <td></td>\n",
       "      <td>2008</td>\n",
       "      <td>아파트</td>\n",
       "      <td>중개거래</td>\n",
       "      <td>서울 영등포구</td>\n",
       "    </tr>\n",
       "    <tr>\n",
       "      <th>1</th>\n",
       "      <td>2023</td>\n",
       "      <td>11560</td>\n",
       "      <td>영등포구</td>\n",
       "      <td>13300</td>\n",
       "      <td>대림동</td>\n",
       "      <td>1</td>\n",
       "      <td>대지</td>\n",
       "      <td>0946</td>\n",
       "      <td>0001</td>\n",
       "      <td>대림현대</td>\n",
       "      <td>...</td>\n",
       "      <td>57900</td>\n",
       "      <td>59.76</td>\n",
       "      <td>0.00</td>\n",
       "      <td>4.0</td>\n",
       "      <td></td>\n",
       "      <td></td>\n",
       "      <td>1999</td>\n",
       "      <td>아파트</td>\n",
       "      <td>중개거래</td>\n",
       "      <td>서울 영등포구</td>\n",
       "    </tr>\n",
       "    <tr>\n",
       "      <th>2</th>\n",
       "      <td>2023</td>\n",
       "      <td>11560</td>\n",
       "      <td>영등포구</td>\n",
       "      <td>12600</td>\n",
       "      <td>양평동2가</td>\n",
       "      <td>1</td>\n",
       "      <td>대지</td>\n",
       "      <td>0043</td>\n",
       "      <td>0011</td>\n",
       "      <td>디에이원파크</td>\n",
       "      <td>...</td>\n",
       "      <td>23000</td>\n",
       "      <td>29.56</td>\n",
       "      <td>40.66</td>\n",
       "      <td>13.0</td>\n",
       "      <td></td>\n",
       "      <td>20231229</td>\n",
       "      <td>2017</td>\n",
       "      <td>오피스텔</td>\n",
       "      <td>직거래</td>\n",
       "      <td></td>\n",
       "    </tr>\n",
       "    <tr>\n",
       "      <th>3</th>\n",
       "      <td>2023</td>\n",
       "      <td>11560</td>\n",
       "      <td>영등포구</td>\n",
       "      <td>12100</td>\n",
       "      <td>문래동3가</td>\n",
       "      <td></td>\n",
       "      <td></td>\n",
       "      <td></td>\n",
       "      <td></td>\n",
       "      <td></td>\n",
       "      <td>...</td>\n",
       "      <td>114000</td>\n",
       "      <td>26.68</td>\n",
       "      <td>61.80</td>\n",
       "      <td>0.0</td>\n",
       "      <td></td>\n",
       "      <td>20231229</td>\n",
       "      <td>1942</td>\n",
       "      <td>단독다가구</td>\n",
       "      <td>중개거래</td>\n",
       "      <td>서울 영등포구</td>\n",
       "    </tr>\n",
       "    <tr>\n",
       "      <th>4</th>\n",
       "      <td>2023</td>\n",
       "      <td>11560</td>\n",
       "      <td>영등포구</td>\n",
       "      <td>11700</td>\n",
       "      <td>당산동</td>\n",
       "      <td>1</td>\n",
       "      <td>대지</td>\n",
       "      <td>0121</td>\n",
       "      <td>0003</td>\n",
       "      <td>나온타워</td>\n",
       "      <td>...</td>\n",
       "      <td>12000</td>\n",
       "      <td>15.38</td>\n",
       "      <td>6.23</td>\n",
       "      <td>4.0</td>\n",
       "      <td></td>\n",
       "      <td></td>\n",
       "      <td>2013</td>\n",
       "      <td>연립다세대</td>\n",
       "      <td>직거래</td>\n",
       "      <td></td>\n",
       "    </tr>\n",
       "  </tbody>\n",
       "</table>\n",
       "<p>5 rows × 21 columns</p>\n",
       "</div>"
      ],
      "text/plain": [
       "  ACC_YEAR SGG_CD SGG_NM BJDONG_CD BJDONG_NM LAND_GBN LAND_GBN_NM BONBEON  \\\n",
       "0     2023  11560   영등포구     11000      여의도동        1          대지    0047   \n",
       "1     2023  11560   영등포구     13300       대림동        1          대지    0946   \n",
       "2     2023  11560   영등포구     12600     양평동2가        1          대지    0043   \n",
       "3     2023  11560   영등포구     12100     문래동3가                                \n",
       "4     2023  11560   영등포구     11700       당산동        1          대지    0121   \n",
       "\n",
       "  BUBEON BLDG_NM  ... OBJ_AMT BLDG_AREA  TOT_AREA  FLOOR  RIGHT_GBN  CNTL_YMD  \\\n",
       "0   0000   여의도자이  ...  392000    210.38      0.00   21.0                        \n",
       "1   0001    대림현대  ...   57900     59.76      0.00    4.0                        \n",
       "2   0011  디에이원파크  ...   23000     29.56     40.66   13.0             20231229   \n",
       "3                 ...  114000     26.68     61.80    0.0             20231229   \n",
       "4   0003    나온타워  ...   12000     15.38      6.23    4.0                        \n",
       "\n",
       "  BUILD_YEAR HOUSE_TYPE REQ_GBN RDEALER_LAWDNM  \n",
       "0       2008        아파트    중개거래        서울 영등포구  \n",
       "1       1999        아파트    중개거래        서울 영등포구  \n",
       "2       2017       오피스텔     직거래                 \n",
       "3       1942      단독다가구    중개거래        서울 영등포구  \n",
       "4       2013      연립다세대     직거래                 \n",
       "\n",
       "[5 rows x 21 columns]"
      ]
     },
     "execution_count": 17,
     "metadata": {},
     "output_type": "execute_result"
    }
   ],
   "source": [
    "# 영등포구 2023년 실거래가 데이터 100개 정보를 dataframe으로 만들고 확인\n",
    "con = content['tbLnOpendataRtmsV']['row']\n",
    "result = pd.DataFrame(con)\n",
    "result.head()"
   ]
  },
  {
   "cell_type": "code",
   "execution_count": 18,
   "metadata": {},
   "outputs": [
    {
     "data": {
      "text/plain": [
       "0    20231229\n",
       "1    20231229\n",
       "2    20231228\n",
       "3    20231227\n",
       "4    20231227\n",
       "Name: DEAL_YMD, dtype: object"
      ]
     },
     "execution_count": 18,
     "metadata": {},
     "output_type": "execute_result"
    }
   ],
   "source": [
    "# 계약일 확인하기\n",
    "result['DEAL_YMD'].head()"
   ]
  },
  {
   "cell_type": "markdown",
   "metadata": {},
   "source": [
    "### 실습과제-1\n",
    "1. 자치구 코드(시군구 코드)는 '서울시 건축물대장 법정동 코드정보'에서 확인\n",
    "2. '서울시 건축물대장 법정도 코드정보' Open API를 활용하여 30개 데이터를 가져와서\n",
    "3. Pandas dataFrame으로 변환하여 출력해보기\n",
    "4. '영등포구' 법정도 코드 번호를 확인하기"
   ]
  },
  {
   "cell_type": "code",
   "execution_count": null,
   "metadata": {},
   "outputs": [],
   "source": []
  },
  {
   "cell_type": "code",
   "execution_count": null,
   "metadata": {},
   "outputs": [],
   "source": []
  },
  {
   "cell_type": "code",
   "execution_count": null,
   "metadata": {},
   "outputs": [],
   "source": []
  },
  {
   "cell_type": "code",
   "execution_count": null,
   "metadata": {},
   "outputs": [],
   "source": []
  },
  {
   "cell_type": "code",
   "execution_count": null,
   "metadata": {},
   "outputs": [],
   "source": []
  }
 ],
 "metadata": {
  "kernelspec": {
   "display_name": "Python 3",
   "language": "python",
   "name": "python3"
  },
  "language_info": {
   "codemirror_mode": {
    "name": "ipython",
    "version": 3
   },
   "file_extension": ".py",
   "mimetype": "text/x-python",
   "name": "python",
   "nbconvert_exporter": "python",
   "pygments_lexer": "ipython3",
   "version": "3.11.2"
  }
 },
 "nbformat": 4,
 "nbformat_minor": 2
}
